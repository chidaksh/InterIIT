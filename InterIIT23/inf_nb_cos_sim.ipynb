{
 "cells": [
  {
   "cell_type": "code",
   "execution_count": 1,
   "id": "7aff0d56",
   "metadata": {},
   "outputs": [],
   "source": [
    "import pandas as pd"
   ]
  },
  {
   "cell_type": "code",
   "execution_count": 11,
   "id": "889db6e2",
   "metadata": {},
   "outputs": [
    {
     "data": {
      "text/html": [
       "<div>\n",
       "<style scoped>\n",
       "    .dataframe tbody tr th:only-of-type {\n",
       "        vertical-align: middle;\n",
       "    }\n",
       "\n",
       "    .dataframe tbody tr th {\n",
       "        vertical-align: top;\n",
       "    }\n",
       "\n",
       "    .dataframe thead th {\n",
       "        text-align: right;\n",
       "    }\n",
       "</style>\n",
       "<table border=\"1\" class=\"dataframe\">\n",
       "  <thead>\n",
       "    <tr style=\"text-align: right;\">\n",
       "      <th></th>\n",
       "      <th>paragraph_id</th>\n",
       "      <th>answers</th>\n",
       "    </tr>\n",
       "    <tr>\n",
       "      <th>question_id</th>\n",
       "      <th></th>\n",
       "      <th></th>\n",
       "    </tr>\n",
       "  </thead>\n",
       "  <tbody>\n",
       "    <tr>\n",
       "      <th>1</th>\n",
       "      <td>[]</td>\n",
       "      <td>[]</td>\n",
       "    </tr>\n",
       "    <tr>\n",
       "      <th>2</th>\n",
       "      <td>[6]</td>\n",
       "      <td>['Qatar']</td>\n",
       "    </tr>\n",
       "    <tr>\n",
       "      <th>3</th>\n",
       "      <td>[2]</td>\n",
       "      <td>['Google']</td>\n",
       "    </tr>\n",
       "    <tr>\n",
       "      <th>4</th>\n",
       "      <td>[]</td>\n",
       "      <td>[]</td>\n",
       "    </tr>\n",
       "    <tr>\n",
       "      <th>5</th>\n",
       "      <td>[3, 4]</td>\n",
       "      <td>['November 2022']</td>\n",
       "    </tr>\n",
       "  </tbody>\n",
       "</table>\n",
       "</div>"
      ],
      "text/plain": [
       "            paragraph_id            answers\n",
       "question_id                                \n",
       "1                     []                 []\n",
       "2                    [6]          ['Qatar']\n",
       "3                    [2]         ['Google']\n",
       "4                     []                 []\n",
       "5                 [3, 4]  ['November 2022']"
      ]
     },
     "execution_count": 11,
     "metadata": {},
     "output_type": "execute_result"
    }
   ],
   "source": [
    "df1 = pd.read_csv(\"Evaluation_resources_official/sample_ground_truth.csv\", index_col=0)\n",
    "df1.head()"
   ]
  },
  {
   "cell_type": "code",
   "execution_count": 12,
   "id": "8d025faa",
   "metadata": {},
   "outputs": [
    {
     "data": {
      "text/html": [
       "<div>\n",
       "<style scoped>\n",
       "    .dataframe tbody tr th:only-of-type {\n",
       "        vertical-align: middle;\n",
       "    }\n",
       "\n",
       "    .dataframe tbody tr th {\n",
       "        vertical-align: top;\n",
       "    }\n",
       "\n",
       "    .dataframe thead th {\n",
       "        text-align: right;\n",
       "    }\n",
       "</style>\n",
       "<table border=\"1\" class=\"dataframe\">\n",
       "  <thead>\n",
       "    <tr style=\"text-align: right;\">\n",
       "      <th></th>\n",
       "      <th>paragraph</th>\n",
       "      <th>theme</th>\n",
       "    </tr>\n",
       "    <tr>\n",
       "      <th>id</th>\n",
       "      <th></th>\n",
       "      <th></th>\n",
       "    </tr>\n",
       "  </thead>\n",
       "  <tbody>\n",
       "    <tr>\n",
       "      <th>1</th>\n",
       "      <td>Kubernetes is an open-source container orchest...</td>\n",
       "      <td>kubernetes</td>\n",
       "    </tr>\n",
       "    <tr>\n",
       "      <th>2</th>\n",
       "      <td>Google originally designed Kubernetes, but the...</td>\n",
       "      <td>kubernetes</td>\n",
       "    </tr>\n",
       "    <tr>\n",
       "      <th>3</th>\n",
       "      <td>ChatGPT, which stands for Chat Generative Pre-...</td>\n",
       "      <td>ChatGPT</td>\n",
       "    </tr>\n",
       "    <tr>\n",
       "      <th>4</th>\n",
       "      <td>ChatGPT was launched as a prototype in Novembe...</td>\n",
       "      <td>ChatGPT</td>\n",
       "    </tr>\n",
       "    <tr>\n",
       "      <th>5</th>\n",
       "      <td>The 2022 FIFA World Cup was an international f...</td>\n",
       "      <td>Football world cup</td>\n",
       "    </tr>\n",
       "  </tbody>\n",
       "</table>\n",
       "</div>"
      ],
      "text/plain": [
       "                                            paragraph               theme\n",
       "id                                                                       \n",
       "1   Kubernetes is an open-source container orchest...          kubernetes\n",
       "2   Google originally designed Kubernetes, but the...          kubernetes\n",
       "3   ChatGPT, which stands for Chat Generative Pre-...             ChatGPT\n",
       "4   ChatGPT was launched as a prototype in Novembe...             ChatGPT\n",
       "5   The 2022 FIFA World Cup was an international f...  Football world cup"
      ]
     },
     "execution_count": 12,
     "metadata": {},
     "output_type": "execute_result"
    }
   ],
   "source": [
    "df2 = pd.read_csv(\"Evaluation_resources_official/sample_input_paragraph.csv\", index_col=0)\n",
    "df2.head()"
   ]
  },
  {
   "cell_type": "code",
   "execution_count": 14,
   "id": "23525483",
   "metadata": {},
   "outputs": [
    {
     "data": {
      "text/html": [
       "<div>\n",
       "<style scoped>\n",
       "    .dataframe tbody tr th:only-of-type {\n",
       "        vertical-align: middle;\n",
       "    }\n",
       "\n",
       "    .dataframe tbody tr th {\n",
       "        vertical-align: top;\n",
       "    }\n",
       "\n",
       "    .dataframe thead th {\n",
       "        text-align: right;\n",
       "    }\n",
       "</style>\n",
       "<table border=\"1\" class=\"dataframe\">\n",
       "  <thead>\n",
       "    <tr style=\"text-align: right;\">\n",
       "      <th></th>\n",
       "      <th>question</th>\n",
       "      <th>theme</th>\n",
       "    </tr>\n",
       "    <tr>\n",
       "      <th>id</th>\n",
       "      <th></th>\n",
       "      <th></th>\n",
       "    </tr>\n",
       "  </thead>\n",
       "  <tbody>\n",
       "    <tr>\n",
       "      <th>1</th>\n",
       "      <td>Who won 2022 Football world cup?</td>\n",
       "      <td>Football world cup</td>\n",
       "    </tr>\n",
       "    <tr>\n",
       "      <th>2</th>\n",
       "      <td>Where did the 2022 football world cup take place?</td>\n",
       "      <td>Football world cup</td>\n",
       "    </tr>\n",
       "    <tr>\n",
       "      <th>3</th>\n",
       "      <td>Who designed Kubernetes?</td>\n",
       "      <td>Kubernetes</td>\n",
       "    </tr>\n",
       "    <tr>\n",
       "      <th>4</th>\n",
       "      <td>When was kubenetes developed?</td>\n",
       "      <td>Kubernetes</td>\n",
       "    </tr>\n",
       "    <tr>\n",
       "      <th>5</th>\n",
       "      <td>When was ChatGPT prototype launched?</td>\n",
       "      <td>ChatGPT</td>\n",
       "    </tr>\n",
       "  </tbody>\n",
       "</table>\n",
       "</div>"
      ],
      "text/plain": [
       "                                             question               theme\n",
       "id                                                                       \n",
       "1                    Who won 2022 Football world cup?  Football world cup\n",
       "2   Where did the 2022 football world cup take place?  Football world cup\n",
       "3                            Who designed Kubernetes?          Kubernetes\n",
       "4                       When was kubenetes developed?          Kubernetes\n",
       "5                When was ChatGPT prototype launched?             ChatGPT"
      ]
     },
     "execution_count": 14,
     "metadata": {},
     "output_type": "execute_result"
    }
   ],
   "source": [
    "df3 = pd.read_csv(\"Evaluation_resources_official/sample_input_question.csv\", index_col=0)\n",
    "df3.head()"
   ]
  },
  {
   "cell_type": "code",
   "execution_count": 16,
   "id": "987f8998",
   "metadata": {},
   "outputs": [
    {
     "data": {
      "text/html": [
       "<div>\n",
       "<style scoped>\n",
       "    .dataframe tbody tr th:only-of-type {\n",
       "        vertical-align: middle;\n",
       "    }\n",
       "\n",
       "    .dataframe tbody tr th {\n",
       "        vertical-align: top;\n",
       "    }\n",
       "\n",
       "    .dataframe thead th {\n",
       "        text-align: right;\n",
       "    }\n",
       "</style>\n",
       "<table border=\"1\" class=\"dataframe\">\n",
       "  <thead>\n",
       "    <tr style=\"text-align: right;\">\n",
       "      <th></th>\n",
       "      <th>theme</th>\n",
       "      <th>start</th>\n",
       "      <th>end</th>\n",
       "    </tr>\n",
       "  </thead>\n",
       "  <tbody>\n",
       "    <tr>\n",
       "      <th>0</th>\n",
       "      <td>Football world cup</td>\n",
       "      <td>1</td>\n",
       "      <td>2</td>\n",
       "    </tr>\n",
       "    <tr>\n",
       "      <th>1</th>\n",
       "      <td>Kubernetes</td>\n",
       "      <td>3</td>\n",
       "      <td>4</td>\n",
       "    </tr>\n",
       "    <tr>\n",
       "      <th>2</th>\n",
       "      <td>ChatGPT</td>\n",
       "      <td>5</td>\n",
       "      <td>5</td>\n",
       "    </tr>\n",
       "  </tbody>\n",
       "</table>\n",
       "</div>"
      ],
      "text/plain": [
       "                theme  start  end\n",
       "0  Football world cup      1    2\n",
       "1          Kubernetes      3    4\n",
       "2             ChatGPT      5    5"
      ]
     },
     "execution_count": 16,
     "metadata": {},
     "output_type": "execute_result"
    }
   ],
   "source": [
    "df4 = pd.read_csv(\"Evaluation_resources_official/sample_theme_interval.csv\")#, index_col=0)\n",
    "df4.head()"
   ]
  },
  {
   "cell_type": "code",
   "execution_count": null,
   "id": "bf78ccf3",
   "metadata": {},
   "outputs": [],
   "source": []
  },
  {
   "cell_type": "code",
   "execution_count": 23,
   "id": "1a220077",
   "metadata": {},
   "outputs": [],
   "source": [
    "import pandas as pd\n",
    "import numpy as np\n",
    "import matplotlib.pyplot as plt\n",
    "from sklearn.feature_extraction.text import TfidfVectorizer\n",
    "from sklearn.metrics.pairwise import cosine_similarity\n",
    "from tqdm.auto import tqdm\n",
    "import json\n",
    "from sklearn.metrics import accuracy_score\n",
    "import unicodedata\n",
    "import timeit\n",
    "import nltk\n",
    "from nltk.corpus import stopwords\n",
    "from nltk.stem import WordNetLemmatizer\n",
    "from nltk.stem import SnowballStemmer"
   ]
  },
  {
   "cell_type": "code",
   "execution_count": 18,
   "id": "d72f73f6",
   "metadata": {},
   "outputs": [],
   "source": [
    "stemmer_obj = SnowballStemmer('english')  \n",
    "lem = WordNetLemmatizer()\n",
    "\n",
    "def lemmatizer_stemmer(text):\n",
    "    list_sentences = text.split(\".\")\n",
    "    new_lines = []\n",
    "    for line in list_sentences:\n",
    "        list_words = line.split(\" \")\n",
    "        # print(line)\n",
    "        new_line = []\n",
    "        for word in list_words:\n",
    "            new_line.append(stemmer_obj.stem(lem.lemmatize(word)))\n",
    "        new_lines.append(\" \".join(new_line))\n",
    "        # print(new_line)\n",
    "    return \".\".join(new_lines)\n",
    "\n",
    "def remove_stopwords(text):\n",
    "    list_sentences = text.split(\".\")\n",
    "    new_lines = []\n",
    "    for line in list_sentences:\n",
    "        list_words = line.split(\" \")\n",
    "        new_lines.append(\" \".join([word.lower() for word in list_words if word not in stopwords.words('english')]))\n",
    "    return  \".\".join(new_lines)\n",
    "\n",
    "def remove_accents(text):\n",
    "    return unicodedata.normalize('NFKD', text).encode('ascii', 'ignore').decode('utf-8', 'ignore')\n",
    "\n",
    "def remove_punctuations(text):\n",
    "    return text.replace('?',\"\")\n",
    "\n",
    "def preprocess_text(text: str) -> str :\n",
    "    return lemmatizer_stemmer(remove_stopwords(remove_punctuations(remove_accents(text))))"
   ]
  },
  {
   "cell_type": "code",
   "execution_count": 101,
   "id": "ba552ece",
   "metadata": {},
   "outputs": [],
   "source": [
    "# NOTE: make changes in this cell only.\n",
    "df_paras = pd.read_csv(\"Evaluation_resources_official/sample_input_paragraph.csv\")\n",
    "def pred_theme_ans(questions, pred_out):\n",
    "  #-----------------------------\n",
    "  # Warmup module for a theme model goes here.\n",
    "  #------------------------------\n",
    "  theme = questions[0][\"theme\"]\n",
    "    \n",
    "  # Vectorizer & Cos Similarity :-\n",
    "  vectorizer = TfidfVectorizer()\n",
    "  all_paras = list(df_paras[df_paras.theme.str.lower()==theme.lower()].paragraph.unique())\n",
    "  paragraphs_vec = vectorizer.fit_transform([preprocess_text(i) for i in all_paras])\n",
    "  # print(type(paragraphs_vec))\n",
    "  print(paragraphs_vec.shape)\n",
    "  # print(\"***********************\")\n",
    "  print(\"---------------------------\")\n",
    "\n",
    "  for question in questions:\n",
    "    #-------------------------------------   \n",
    "    # add your prediction methodology here.\n",
    "    #-------------------------------------\n",
    "    \n",
    "    # TfIDf vectorizer Method :-\n",
    "    ans = {}\n",
    "    ans[\"question_id\"] = question[\"id\"]\n",
    "    quesn_vec = vectorizer.transform([question[\"question\"]])\n",
    "    print(quesn_vec.reshape(quesn_vec.shape[1], 1).shape)\n",
    "    cos_prods = np.dot(paragraphs_vec, quesn_vec.reshape((quesn_vec.shape[1], 1)))\n",
    "    most_likely_para_idx = df_paras[df_paras.paragraph == all_paras[cos_prods.argmax()]].id.item()\n",
    "    print(cos_prods.shape)\n",
    "    print(all_paras[cos_prods.argmax()])\n",
    "    print(most_likely_para_idx)\n",
    "    \n",
    "    # Dummy method.\n",
    "#     ans = {}\n",
    "#     ans[\"question_id\"] = question[\"id\"]\n",
    "#     if theme == \"Kubernetes\":\n",
    "#         # If no prediction for a paragraph, predict -1 for paragraph prediction\n",
    "#         # and empty string for answers.\n",
    "#         ans[\"paragraph_id\"] = 2\n",
    "#         ans[\"answers\"] = \"Google\"\n",
    "#     elif theme == \"ChatGPT\":\n",
    "#         ans[\"paragraph_id\"] = 4\n",
    "#         ans[\"answers\"] = \"2022\"\n",
    "#     elif theme == \"Football world cup\":\n",
    "#         ans[\"paragraph_id\"] = 6\n",
    "#         ans[\"answers\"] = \"Qatar\"\n",
    "#     pred_out.append(ans)"
   ]
  },
  {
   "cell_type": "code",
   "execution_count": 102,
   "id": "12ae06b7",
   "metadata": {},
   "outputs": [
    {
     "name": "stdout",
     "output_type": "stream",
     "text": [
      "(2, 24)\n",
      "---------------------------\n",
      "(24, 1)\n",
      "(2, 1)\n",
      "The 2022 FIFA World Cup was an international football tournament contested by the men's national teams of FIFA's member associations and 22nd edition of the FIFA World Cup.\n",
      "5\n",
      "(24, 1)\n",
      "(2, 1)\n",
      "The 2022 FIFA World Cup was an international football tournament contested by the men's national teams of FIFA's member associations and 22nd edition of the FIFA World Cup.\n",
      "5\n",
      "(2, 21)\n",
      "---------------------------\n",
      "(21, 1)\n",
      "(2, 1)\n",
      "Google originally designed Kubernetes, but the Cloud Native Computing Foundation now maintains the project.\n",
      "2\n",
      "(21, 1)\n",
      "(2, 1)\n",
      "Kubernetes is an open-source container orchestration system for automating software deployment, scaling, and management.\n",
      "1\n",
      "(2, 16)\n",
      "---------------------------\n",
      "(16, 1)\n",
      "(2, 1)\n",
      "ChatGPT was launched as a prototype in November 2022, and quickly garnered attention for its detailed responses.\n",
      "4\n"
     ]
    }
   ],
   "source": [
    "# All theme prediction.\n",
    "questions = json.loads(pd.read_csv(\"Evaluation_resources_official/sample_input_question.csv\").to_json(orient=\"records\"))\n",
    "theme_intervals = json.loads(pd.read_csv(\"Evaluation_resources_official/sample_theme_interval.csv\").to_json(orient=\"records\"))\n",
    "pred_out = []\n",
    "theme_inf_time = {}\n",
    "for theme_interval in theme_intervals:\n",
    "  theme_ques = questions[int(theme_interval[\"start\"]) - 1: int(theme_interval[\"end\"])]\n",
    "  execution_time = timeit.timeit(lambda: pred_theme_ans(theme_ques, pred_out), number=1)\n",
    "  theme_inf_time[theme_interval[\"theme\"]] = execution_time * 1000 # in milliseconds.\n",
    "pred_df = pd.DataFrame.from_records(pred_out)\n",
    "# Write prediction to a CSV file. Teams are required to submit this csv file.\n",
    "pred_df.to_csv('Evaluation_resources_official/sample_output_prediction.csv', index=False)"
   ]
  },
  {
   "cell_type": "code",
   "execution_count": 103,
   "id": "b0498ebe",
   "metadata": {},
   "outputs": [
    {
     "data": {
      "text/html": [
       "<div>\n",
       "<style scoped>\n",
       "    .dataframe tbody tr th:only-of-type {\n",
       "        vertical-align: middle;\n",
       "    }\n",
       "\n",
       "    .dataframe tbody tr th {\n",
       "        vertical-align: top;\n",
       "    }\n",
       "\n",
       "    .dataframe thead th {\n",
       "        text-align: right;\n",
       "    }\n",
       "</style>\n",
       "<table border=\"1\" class=\"dataframe\">\n",
       "  <thead>\n",
       "    <tr style=\"text-align: right;\">\n",
       "      <th></th>\n",
       "      <th>question</th>\n",
       "      <th>theme</th>\n",
       "    </tr>\n",
       "    <tr>\n",
       "      <th>id</th>\n",
       "      <th></th>\n",
       "      <th></th>\n",
       "    </tr>\n",
       "  </thead>\n",
       "  <tbody>\n",
       "    <tr>\n",
       "      <th>1</th>\n",
       "      <td>Who won 2022 Football world cup?</td>\n",
       "      <td>Football world cup</td>\n",
       "    </tr>\n",
       "    <tr>\n",
       "      <th>2</th>\n",
       "      <td>Where did the 2022 football world cup take place?</td>\n",
       "      <td>Football world cup</td>\n",
       "    </tr>\n",
       "    <tr>\n",
       "      <th>3</th>\n",
       "      <td>Who designed Kubernetes?</td>\n",
       "      <td>Kubernetes</td>\n",
       "    </tr>\n",
       "    <tr>\n",
       "      <th>4</th>\n",
       "      <td>When was kubenetes developed?</td>\n",
       "      <td>Kubernetes</td>\n",
       "    </tr>\n",
       "    <tr>\n",
       "      <th>5</th>\n",
       "      <td>When was ChatGPT prototype launched?</td>\n",
       "      <td>ChatGPT</td>\n",
       "    </tr>\n",
       "  </tbody>\n",
       "</table>\n",
       "</div>"
      ],
      "text/plain": [
       "                                             question               theme\n",
       "id                                                                       \n",
       "1                    Who won 2022 Football world cup?  Football world cup\n",
       "2   Where did the 2022 football world cup take place?  Football world cup\n",
       "3                            Who designed Kubernetes?          Kubernetes\n",
       "4                       When was kubenetes developed?          Kubernetes\n",
       "5                When was ChatGPT prototype launched?             ChatGPT"
      ]
     },
     "execution_count": 103,
     "metadata": {},
     "output_type": "execute_result"
    }
   ],
   "source": [
    "df3.head()"
   ]
  },
  {
   "cell_type": "code",
   "execution_count": 106,
   "id": "07dd4a84",
   "metadata": {},
   "outputs": [
    {
     "data": {
      "text/html": [
       "<div>\n",
       "<style scoped>\n",
       "    .dataframe tbody tr th:only-of-type {\n",
       "        vertical-align: middle;\n",
       "    }\n",
       "\n",
       "    .dataframe tbody tr th {\n",
       "        vertical-align: top;\n",
       "    }\n",
       "\n",
       "    .dataframe thead th {\n",
       "        text-align: right;\n",
       "    }\n",
       "</style>\n",
       "<table border=\"1\" class=\"dataframe\">\n",
       "  <thead>\n",
       "    <tr style=\"text-align: right;\">\n",
       "      <th></th>\n",
       "      <th>paragraph</th>\n",
       "      <th>theme</th>\n",
       "    </tr>\n",
       "    <tr>\n",
       "      <th>id</th>\n",
       "      <th></th>\n",
       "      <th></th>\n",
       "    </tr>\n",
       "  </thead>\n",
       "  <tbody>\n",
       "    <tr>\n",
       "      <th>1</th>\n",
       "      <td>Kubernetes is an open-source container orchest...</td>\n",
       "      <td>kubernetes</td>\n",
       "    </tr>\n",
       "    <tr>\n",
       "      <th>2</th>\n",
       "      <td>Google originally designed Kubernetes, but the...</td>\n",
       "      <td>kubernetes</td>\n",
       "    </tr>\n",
       "    <tr>\n",
       "      <th>3</th>\n",
       "      <td>ChatGPT, which stands for Chat Generative Pre-...</td>\n",
       "      <td>ChatGPT</td>\n",
       "    </tr>\n",
       "    <tr>\n",
       "      <th>4</th>\n",
       "      <td>ChatGPT was launched as a prototype in Novembe...</td>\n",
       "      <td>ChatGPT</td>\n",
       "    </tr>\n",
       "    <tr>\n",
       "      <th>5</th>\n",
       "      <td>The 2022 FIFA World Cup was an international f...</td>\n",
       "      <td>Football world cup</td>\n",
       "    </tr>\n",
       "    <tr>\n",
       "      <th>6</th>\n",
       "      <td>It took place in Qatar from 20 November to 18 ...</td>\n",
       "      <td>Football world cup</td>\n",
       "    </tr>\n",
       "  </tbody>\n",
       "</table>\n",
       "</div>"
      ],
      "text/plain": [
       "                                            paragraph               theme\n",
       "id                                                                       \n",
       "1   Kubernetes is an open-source container orchest...          kubernetes\n",
       "2   Google originally designed Kubernetes, but the...          kubernetes\n",
       "3   ChatGPT, which stands for Chat Generative Pre-...             ChatGPT\n",
       "4   ChatGPT was launched as a prototype in Novembe...             ChatGPT\n",
       "5   The 2022 FIFA World Cup was an international f...  Football world cup\n",
       "6   It took place in Qatar from 20 November to 18 ...  Football world cup"
      ]
     },
     "execution_count": 106,
     "metadata": {},
     "output_type": "execute_result"
    }
   ],
   "source": [
    "df2"
   ]
  },
  {
   "cell_type": "code",
   "execution_count": 38,
   "id": "0111dd74",
   "metadata": {},
   "outputs": [
    {
     "data": {
      "text/plain": [
       "[]"
      ]
     },
     "execution_count": 38,
     "metadata": {},
     "output_type": "execute_result"
    }
   ],
   "source": [
    "list(df_paras[df_paras.theme=='Kubernetes'].paragraph.unique())"
   ]
  },
  {
   "cell_type": "code",
   "execution_count": 36,
   "id": "baf69f65",
   "metadata": {},
   "outputs": [
    {
     "data": {
      "text/plain": [
       "[{'theme': 'Football world cup', 'start': 1, 'end': 2},\n",
       " {'theme': 'Kubernetes', 'start': 3, 'end': 4},\n",
       " {'theme': 'ChatGPT', 'start': 5, 'end': 5}]"
      ]
     },
     "execution_count": 36,
     "metadata": {},
     "output_type": "execute_result"
    }
   ],
   "source": [
    "theme_intervals"
   ]
  },
  {
   "cell_type": "code",
   "execution_count": 96,
   "id": "1ea7add4",
   "metadata": {},
   "outputs": [
    {
     "data": {
      "text/plain": [
       "array([[26],\n",
       "       [ 6],\n",
       "       [36]])"
      ]
     },
     "execution_count": 96,
     "metadata": {},
     "output_type": "execute_result"
    }
   ],
   "source": [
    "np.dot(np.array([[2, 4], [0, 6], [3, 3]]), np.array([11, 1]).reshape((2, 1)))"
   ]
  },
  {
   "cell_type": "code",
   "execution_count": 60,
   "id": "5a2641ee",
   "metadata": {},
   "outputs": [
    {
     "data": {
      "text/plain": [
       "(3, 2)"
      ]
     },
     "execution_count": 60,
     "metadata": {},
     "output_type": "execute_result"
    }
   ],
   "source": [
    "np.array([[2, 4], [0, 6], [3, 3]]).shape"
   ]
  },
  {
   "cell_type": "code",
   "execution_count": 58,
   "id": "2b024dfe",
   "metadata": {},
   "outputs": [
    {
     "data": {
      "text/plain": [
       "(2,)"
      ]
     },
     "execution_count": 58,
     "metadata": {},
     "output_type": "execute_result"
    }
   ],
   "source": [
    "np.array([11, 1]).shape"
   ]
  },
  {
   "cell_type": "code",
   "execution_count": 65,
   "id": "3ef9bfb3",
   "metadata": {},
   "outputs": [
    {
     "data": {
      "text/plain": [
       "(2,)"
      ]
     },
     "execution_count": 65,
     "metadata": {},
     "output_type": "execute_result"
    }
   ],
   "source": [
    "np.array([11, 1]).reshape((1, 2)).squeeze().shape"
   ]
  },
  {
   "cell_type": "code",
   "execution_count": null,
   "id": "97a0eebc",
   "metadata": {},
   "outputs": [],
   "source": []
  }
 ],
 "metadata": {
  "kernelspec": {
   "display_name": "Python 3 (ipykernel)",
   "language": "python",
   "name": "python3"
  },
  "language_info": {
   "codemirror_mode": {
    "name": "ipython",
    "version": 3
   },
   "file_extension": ".py",
   "mimetype": "text/x-python",
   "name": "python",
   "nbconvert_exporter": "python",
   "pygments_lexer": "ipython3",
   "version": "3.8.10"
  }
 },
 "nbformat": 4,
 "nbformat_minor": 5
}
