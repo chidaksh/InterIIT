{
 "cells": [
  {
   "cell_type": "code",
   "execution_count": 1,
   "metadata": {},
   "outputs": [],
   "source": [
    "import json"
   ]
  },
  {
   "cell_type": "code",
   "execution_count": 2,
   "metadata": {},
   "outputs": [],
   "source": [
    "with open(\"datagen/tools.json\") as f:\n",
    "    obj = json.load(f)"
   ]
  },
  {
   "cell_type": "code",
   "execution_count": 3,
   "metadata": {},
   "outputs": [
    {
     "data": {
      "text/plain": [
       "(dict_keys(['tool_description', 'tool_name', 'title', 'api_list', 'standardized_name']),\n",
       " 9)"
      ]
     },
     "execution_count": 3,
     "metadata": {},
     "output_type": "execute_result"
    }
   ],
   "source": [
    "obj.keys(), len(obj['api_list'])"
   ]
  },
  {
   "cell_type": "code",
   "execution_count": 4,
   "metadata": {},
   "outputs": [
    {
     "name": "stdout",
     "output_type": "stream",
     "text": [
      "dict_keys(['name', 'url', 'description', 'method', 'required_parameters', 'optional_parameters'])\n",
      "dict_keys(['argument_name', 'argument_description', 'argument_type', 'argument_value_example'])\n"
     ]
    }
   ],
   "source": [
    "for api in obj['api_list']:\n",
    "    # list of params: api['optional_parameters']\n",
    "    # api call name: api['name']\n",
    "    # api method: api['method']\n",
    "    print(api.keys())\n",
    "    print(api['optional_parameters'][0].keys())\n",
    "    break"
   ]
  },
  {
   "cell_type": "code",
   "execution_count": 5,
   "metadata": {},
   "outputs": [],
   "source": [
    "txt = \"\"\n",
    "\n",
    "with open(\"api.py\", \"wt\") as f:\n",
    "    for api in obj['api_list']:\n",
    "        txt += \"def \" + api['name'] + \"(\"\n",
    "        for param in api['optional_parameters']:\n",
    "            txt += param['argument_name'].replace(\".\", \"_\")+\"=None, \"\n",
    "        if(len(api['optional_parameters'])>0):\n",
    "            txt = txt[:-2]\n",
    "        txt += \"):\\n\"\n",
    "        txt += \"\\treturn 'dummy-value-inter-iit'\\n\\n\"\n",
    "    f.write(txt)"
   ]
  },
  {
   "cell_type": "code",
   "execution_count": null,
   "metadata": {},
   "outputs": [],
   "source": []
  }
 ],
 "metadata": {
  "kernelspec": {
   "display_name": "mlenv",
   "language": "python",
   "name": "mlenv"
  },
  "language_info": {
   "codemirror_mode": {
    "name": "ipython",
    "version": 3
   },
   "file_extension": ".py",
   "mimetype": "text/x-python",
   "name": "python",
   "nbconvert_exporter": "python",
   "pygments_lexer": "ipython3",
   "version": "3.10.12"
  }
 },
 "nbformat": 4,
 "nbformat_minor": 2
}
