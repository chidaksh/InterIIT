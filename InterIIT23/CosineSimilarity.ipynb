{
 "cells": [
  {
   "cell_type": "code",
   "execution_count": 1,
   "id": "c434a4eb",
   "metadata": {},
   "outputs": [],
   "source": [
    "import pandas as pd\n",
    "import numpy as np\n",
    "import matplotlib.pyplot as plt\n",
    "from sklearn.feature_extraction.text import TfidfVectorizer\n",
    "from sklearn.metrics.pairwise import cosine_similarity\n",
    "from tqdm.auto import tqdm\n",
    "import json\n",
    "from sklearn.metrics import accuracy_score\n",
    "import unicodedata\n",
    "import nltk\n",
    "from nltk.corpus import stopwords\n",
    "from nltk.stem import WordNetLemmatizer\n",
    "from nltk.stem import SnowballStemmer"
   ]
  },
  {
   "cell_type": "code",
   "execution_count": 2,
   "id": "8e31ae9f",
   "metadata": {},
   "outputs": [],
   "source": [
    "def remove_punctuations(text):\n",
    "    return text.replace('?',\"\")"
   ]
  },
  {
   "cell_type": "code",
   "execution_count": 3,
   "id": "36b6b282",
   "metadata": {},
   "outputs": [],
   "source": [
    "def remove_accents(text):\n",
    "    return unicodedata.normalize('NFKD', text).encode('ascii', 'ignore').decode('utf-8', 'ignore')"
   ]
  },
  {
   "cell_type": "code",
   "execution_count": 4,
   "id": "ed43bcfb",
   "metadata": {},
   "outputs": [],
   "source": [
    "def remove_stopwords(text):\n",
    "    list_sentences = text.split(\".\")\n",
    "    new_lines = []\n",
    "    for line in list_sentences:\n",
    "        list_words = line.split(\" \")\n",
    "        new_lines.append(\" \".join([word.lower() for word in list_words if word not in stopwords.words('english')]))\n",
    "    return  \".\".join(new_lines)"
   ]
  },
  {
   "cell_type": "code",
   "execution_count": 5,
   "id": "32e7e127",
   "metadata": {},
   "outputs": [],
   "source": [
    "stemmer_obj = SnowballStemmer('english')  \n",
    "lem = WordNetLemmatizer()\n",
    "\n",
    "def lemmatizer_stemmer(text):\n",
    "    list_sentences = text.split(\".\")\n",
    "    new_lines = []\n",
    "    for line in list_sentences:\n",
    "        list_words = line.split(\" \")\n",
    "        # print(line)\n",
    "        new_line = []\n",
    "        for word in list_words:\n",
    "            new_line.append(stemmer_obj.stem(lem.lemmatize(word)))\n",
    "        new_lines.append(\" \".join(new_line))\n",
    "        # print(new_line)\n",
    "    return \".\".join(new_lines)"
   ]
  },
  {
   "cell_type": "code",
   "execution_count": 6,
   "id": "59340ba4",
   "metadata": {},
   "outputs": [],
   "source": [
    "def preprocess_text(text: str) -> str :\n",
    "    return lemmatizer_stemmer(remove_stopwords(remove_punctuations(remove_accents(text))))"
   ]
  },
  {
   "cell_type": "markdown",
   "id": "e5a7ca31",
   "metadata": {},
   "source": [
    "## Train/Test Split"
   ]
  },
  {
   "cell_type": "code",
   "execution_count": 7,
   "id": "7c2b7a4a",
   "metadata": {},
   "outputs": [],
   "source": [
    "df = pd.read_csv(\"Data/train_data_original.csv\", index_col=0)"
   ]
  },
  {
   "cell_type": "code",
   "execution_count": 8,
   "id": "0e0fffa4",
   "metadata": {},
   "outputs": [],
   "source": [
    "train_df = df.drop(df[(df['Theme']=='Uranium') | (df['Theme'] == 'Alps')].index)"
   ]
  },
  {
   "cell_type": "code",
   "execution_count": 9,
   "id": "a1d33ea3",
   "metadata": {},
   "outputs": [],
   "source": [
    "test_df = df[(df['Theme'] == 'Uranium') | (df['Theme'] == 'Alps')]"
   ]
  },
  {
   "cell_type": "code",
   "execution_count": 10,
   "id": "9c43ad0d",
   "metadata": {},
   "outputs": [
    {
     "data": {
      "text/plain": [
       "75055"
      ]
     },
     "execution_count": 10,
     "metadata": {},
     "output_type": "execute_result"
    }
   ],
   "source": [
    "len(test_df)+len(train_df)"
   ]
  },
  {
   "cell_type": "markdown",
   "id": "4e1f9181",
   "metadata": {},
   "source": [
    "## Training"
   ]
  },
  {
   "cell_type": "code",
   "execution_count": 18,
   "id": "66ea35bb",
   "metadata": {},
   "outputs": [],
   "source": [
    "train_paras = [preprocess_text(i) for i in train_df.Paragraph.unique()]"
   ]
  },
  {
   "cell_type": "code",
   "execution_count": 19,
   "id": "f183126f",
   "metadata": {},
   "outputs": [
    {
     "data": {
      "text/plain": [
       "TfidfVectorizer()"
      ]
     },
     "execution_count": 19,
     "metadata": {},
     "output_type": "execute_result"
    }
   ],
   "source": [
    "vectorizer = TfidfVectorizer()\n",
    "vectorizer.fit(train_paras)"
   ]
  },
  {
   "cell_type": "code",
   "execution_count": null,
   "id": "ac855a8a",
   "metadata": {},
   "outputs": [],
   "source": []
  },
  {
   "cell_type": "code",
   "execution_count": 20,
   "id": "2b09d20d",
   "metadata": {},
   "outputs": [
    {
     "data": {
      "text/plain": [
       "15427"
      ]
     },
     "execution_count": 20,
     "metadata": {},
     "output_type": "execute_result"
    }
   ],
   "source": [
    "len(train_paras)#, len(train_quesn)"
   ]
  },
  {
   "cell_type": "code",
   "execution_count": 15,
   "id": "55e54f1b",
   "metadata": {},
   "outputs": [],
   "source": [
    "def para_prepro(i: int):\n",
    "    return lemmatizer_stemmer(remove_stopwords(remove_punctuations(remove_accents(train_df.Paragraph.iloc[i]))))"
   ]
  },
  {
   "cell_type": "code",
   "execution_count": 16,
   "id": "9d63a8c6",
   "metadata": {},
   "outputs": [],
   "source": [
    "def ques_prepro(i: int):\n",
    "    return lemmatizer_stemmer(remove_stopwords(remove_punctuations(remove_accents(train_df.Question.iloc[i]))))"
   ]
  },
  {
   "cell_type": "code",
   "execution_count": 53,
   "id": "16ea1c33",
   "metadata": {},
   "outputs": [
    {
     "data": {
      "application/vnd.jupyter.widget-view+json": {
       "model_id": "c48a671202c04ceeb786a86131908199",
       "version_major": 2,
       "version_minor": 0
      },
      "text/plain": [
       "  0%|          | 0/50000 [00:00<?, ?it/s]"
      ]
     },
     "metadata": {},
     "output_type": "display_data"
    }
   ],
   "source": [
    "l1 = []\n",
    "l2 = []\n",
    "for i in tqdm(range(50000)):\n",
    "    tfidf_ques = vectorizer.transform([ques_prepro(i)])\n",
    "    tfidf_para = vectorizer.transform([para_prepro(i)])\n",
    "    l1.append(float(cosine_similarity(tfidf_ques, tfidf_para)))\n",
    "    l2.append(float(cosine_similarity(tfidf_ques, vectorizer.transform([para_prepro(i+50*np.random.choice(np.array([-2, -1, 1, 2])))]))))"
   ]
  },
  {
   "cell_type": "code",
   "execution_count": 54,
   "id": "b19bd61f",
   "metadata": {},
   "outputs": [
    {
     "name": "stdout",
     "output_type": "stream",
     "text": [
      "0.15951137477530242\n"
     ]
    }
   ],
   "source": [
    "m1 = sum(l1)/len(l1)\n",
    "m2 = sum(l2)/len(l2)\n",
    "th = (m1+m2)/2\n",
    "print(th)\n",
    "# learned value for 'th' is : 0.15951137477530242"
   ]
  },
  {
   "cell_type": "code",
   "execution_count": 55,
   "id": "46410cb4",
   "metadata": {},
   "outputs": [
    {
     "name": "stdout",
     "output_type": "stream",
     "text": [
      "0.2756027601667071 0.04341998938389775\n"
     ]
    }
   ],
   "source": [
    "print(m1, m2)"
   ]
  },
  {
   "cell_type": "markdown",
   "id": "6e5d6e68",
   "metadata": {},
   "source": [
    "## Testing"
   ]
  },
  {
   "cell_type": "code",
   "execution_count": 21,
   "id": "a84a2131",
   "metadata": {},
   "outputs": [],
   "source": [
    "test_paras = test_df.Paragraph.unique()"
   ]
  },
  {
   "cell_type": "code",
   "execution_count": 22,
   "id": "43826a22",
   "metadata": {},
   "outputs": [],
   "source": [
    "cos_sim = np.full((len(test_df.Question), len(test_paras)), 0.0)"
   ]
  },
  {
   "cell_type": "code",
   "execution_count": 23,
   "id": "7359f455",
   "metadata": {},
   "outputs": [
    {
     "data": {
      "application/vnd.jupyter.widget-view+json": {
       "model_id": "0d7346d9759e4554b466714ed80ba3b3",
       "version_major": 2,
       "version_minor": 0
      },
      "text/plain": [
       "  0%|          | 0/523 [00:00<?, ?it/s]"
      ]
     },
     "metadata": {},
     "output_type": "display_data"
    }
   ],
   "source": [
    "for i in tqdm(range(len(test_df.Question))):\n",
    "    for j in range(len(test_paras)):\n",
    "        cos_sim[i,j] = float(cosine_similarity(vectorizer.transform([preprocess_text(test_df.Question.iloc[i])]), vectorizer.transform([preprocess_text(test_paras[j])])))"
   ]
  },
  {
   "cell_type": "code",
   "execution_count": 25,
   "id": "acc63bb9",
   "metadata": {},
   "outputs": [
    {
     "data": {
      "text/plain": [
       "(523, 128)"
      ]
     },
     "execution_count": 25,
     "metadata": {},
     "output_type": "execute_result"
    }
   ],
   "source": [
    "len(test_df.Question), len(test_paras)"
   ]
  },
  {
   "cell_type": "code",
   "execution_count": 26,
   "id": "aa91abff",
   "metadata": {},
   "outputs": [
    {
     "data": {
      "text/plain": [
       "(pandas.core.series.Series, numpy.ndarray)"
      ]
     },
     "execution_count": 26,
     "metadata": {},
     "output_type": "execute_result"
    }
   ],
   "source": [
    "type(test_df.Question), type(test_paras)"
   ]
  },
  {
   "cell_type": "code",
   "execution_count": 27,
   "id": "37c9f805",
   "metadata": {},
   "outputs": [],
   "source": [
    "best_para_idx = np.argmax(cos_sim,axis=1)"
   ]
  },
  {
   "cell_type": "code",
   "execution_count": 28,
   "id": "b51384f7",
   "metadata": {},
   "outputs": [],
   "source": [
    "true_para_idx = []\n",
    "for i in list(test_df.Paragraph):\n",
    "    true_para_idx.append(list(test_paras).index(i))"
   ]
  },
  {
   "cell_type": "code",
   "execution_count": 29,
   "id": "f0f27b68",
   "metadata": {},
   "outputs": [
    {
     "data": {
      "text/plain": [
       "(list, numpy.ndarray)"
      ]
     },
     "execution_count": 29,
     "metadata": {},
     "output_type": "execute_result"
    }
   ],
   "source": [
    "type(true_para_idx), type(best_para_idx)"
   ]
  },
  {
   "cell_type": "code",
   "execution_count": 30,
   "id": "fd0ca4e7",
   "metadata": {},
   "outputs": [
    {
     "data": {
      "text/plain": [
       "(523, 523)"
      ]
     },
     "execution_count": 30,
     "metadata": {},
     "output_type": "execute_result"
    }
   ],
   "source": [
    "len(true_para_idx), len(best_para_idx)"
   ]
  },
  {
   "cell_type": "code",
   "execution_count": 31,
   "id": "b8e20be2",
   "metadata": {},
   "outputs": [
    {
     "data": {
      "text/plain": [
       "64.24474187380497"
      ]
     },
     "execution_count": 31,
     "metadata": {},
     "output_type": "execute_result"
    }
   ],
   "source": [
    "accuracy_score(true_para_idx, best_para_idx)*100"
   ]
  },
  {
   "cell_type": "code",
   "execution_count": null,
   "id": "a5fbbae2",
   "metadata": {},
   "outputs": [],
   "source": []
  },
  {
   "cell_type": "code",
   "execution_count": 34,
   "id": "22390322",
   "metadata": {
    "collapsed": true
   },
   "outputs": [
    {
     "data": {
      "text/plain": [
       "[0,\n",
       " 0,\n",
       " 0,\n",
       " 0,\n",
       " 1,\n",
       " 1,\n",
       " 2,\n",
       " 2,\n",
       " 2,\n",
       " 2,\n",
       " 3,\n",
       " 3,\n",
       " 4,\n",
       " 4,\n",
       " 5,\n",
       " 5,\n",
       " 6,\n",
       " 7,\n",
       " 7,\n",
       " 7,\n",
       " 8,\n",
       " 8,\n",
       " 8,\n",
       " 9,\n",
       " 10,\n",
       " 10,\n",
       " 11,\n",
       " 11,\n",
       " 11,\n",
       " 11,\n",
       " 12,\n",
       " 13,\n",
       " 13,\n",
       " 14,\n",
       " 14,\n",
       " 14,\n",
       " 14,\n",
       " 15,\n",
       " 15,\n",
       " 15,\n",
       " 16,\n",
       " 16,\n",
       " 16,\n",
       " 16,\n",
       " 16,\n",
       " 17,\n",
       " 17,\n",
       " 17,\n",
       " 18,\n",
       " 18,\n",
       " 18,\n",
       " 19,\n",
       " 19,\n",
       " 19,\n",
       " 19,\n",
       " 20,\n",
       " 21,\n",
       " 21,\n",
       " 21,\n",
       " 22,\n",
       " 22,\n",
       " 23,\n",
       " 23,\n",
       " 24,\n",
       " 24,\n",
       " 24,\n",
       " 24,\n",
       " 25,\n",
       " 25,\n",
       " 25,\n",
       " 26,\n",
       " 26,\n",
       " 26,\n",
       " 26,\n",
       " 27,\n",
       " 28,\n",
       " 29,\n",
       " 29,\n",
       " 30,\n",
       " 30,\n",
       " 30,\n",
       " 30,\n",
       " 31,\n",
       " 31,\n",
       " 32,\n",
       " 32,\n",
       " 32,\n",
       " 33,\n",
       " 33,\n",
       " 33,\n",
       " 33,\n",
       " 34,\n",
       " 34,\n",
       " 34,\n",
       " 34,\n",
       " 34,\n",
       " 35,\n",
       " 35,\n",
       " 36,\n",
       " 36,\n",
       " 37,\n",
       " 37,\n",
       " 37,\n",
       " 38,\n",
       " 38,\n",
       " 38,\n",
       " 39,\n",
       " 39,\n",
       " 39,\n",
       " 39,\n",
       " 39,\n",
       " 40,\n",
       " 40,\n",
       " 40,\n",
       " 41,\n",
       " 41,\n",
       " 41,\n",
       " 41,\n",
       " 41,\n",
       " 42,\n",
       " 42,\n",
       " 43,\n",
       " 43,\n",
       " 44,\n",
       " 45,\n",
       " 45,\n",
       " 45,\n",
       " 46,\n",
       " 46,\n",
       " 46,\n",
       " 47,\n",
       " 48,\n",
       " 48,\n",
       " 48,\n",
       " 49,\n",
       " 49,\n",
       " 49,\n",
       " 50,\n",
       " 50,\n",
       " 51,\n",
       " 51,\n",
       " 51,\n",
       " 52,\n",
       " 52,\n",
       " 52,\n",
       " 53,\n",
       " 53,\n",
       " 53,\n",
       " 53,\n",
       " 54,\n",
       " 54,\n",
       " 54,\n",
       " 55,\n",
       " 55,\n",
       " 55,\n",
       " 55,\n",
       " 55,\n",
       " 56,\n",
       " 56,\n",
       " 56,\n",
       " 57,\n",
       " 57,\n",
       " 57,\n",
       " 57,\n",
       " 58,\n",
       " 58,\n",
       " 58,\n",
       " 58,\n",
       " 59,\n",
       " 59,\n",
       " 59,\n",
       " 60,\n",
       " 60,\n",
       " 60,\n",
       " 60,\n",
       " 61,\n",
       " 61,\n",
       " 61,\n",
       " 62,\n",
       " 62,\n",
       " 62,\n",
       " 62,\n",
       " 63,\n",
       " 63,\n",
       " 64,\n",
       " 64,\n",
       " 64,\n",
       " 65,\n",
       " 65,\n",
       " 65,\n",
       " 66,\n",
       " 66,\n",
       " 66,\n",
       " 66,\n",
       " 66,\n",
       " 67,\n",
       " 67,\n",
       " 67,\n",
       " 68,\n",
       " 68,\n",
       " 69,\n",
       " 70,\n",
       " 70,\n",
       " 70,\n",
       " 71,\n",
       " 71,\n",
       " 71,\n",
       " 71,\n",
       " 72,\n",
       " 72,\n",
       " 72,\n",
       " 73,\n",
       " 73,\n",
       " 74,\n",
       " 74,\n",
       " 74,\n",
       " 75,\n",
       " 75,\n",
       " 75,\n",
       " 75,\n",
       " 76,\n",
       " 76,\n",
       " 76,\n",
       " 76,\n",
       " 77,\n",
       " 77,\n",
       " 77,\n",
       " 78,\n",
       " 78,\n",
       " 79,\n",
       " 79,\n",
       " 79,\n",
       " 79,\n",
       " 79,\n",
       " 80,\n",
       " 80,\n",
       " 80,\n",
       " 80,\n",
       " 81,\n",
       " 81,\n",
       " 81,\n",
       " 81,\n",
       " 82,\n",
       " 82,\n",
       " 82,\n",
       " 83,\n",
       " 83,\n",
       " 84,\n",
       " 84,\n",
       " 84,\n",
       " 85,\n",
       " 85,\n",
       " 85,\n",
       " 86,\n",
       " 87,\n",
       " 87,\n",
       " 87,\n",
       " 87,\n",
       " 87,\n",
       " 87,\n",
       " 87,\n",
       " 87,\n",
       " 88,\n",
       " 88,\n",
       " 88,\n",
       " 88,\n",
       " 88,\n",
       " 88,\n",
       " 88,\n",
       " 89,\n",
       " 89,\n",
       " 89,\n",
       " 89,\n",
       " 89,\n",
       " 89,\n",
       " 89,\n",
       " 89,\n",
       " 90,\n",
       " 90,\n",
       " 90,\n",
       " 90,\n",
       " 90,\n",
       " 90,\n",
       " 91,\n",
       " 91,\n",
       " 91,\n",
       " 91,\n",
       " 91,\n",
       " 91,\n",
       " 91,\n",
       " 92,\n",
       " 92,\n",
       " 92,\n",
       " 92,\n",
       " 92,\n",
       " 92,\n",
       " 93,\n",
       " 93,\n",
       " 93,\n",
       " 93,\n",
       " 93,\n",
       " 93,\n",
       " 93,\n",
       " 94,\n",
       " 94,\n",
       " 94,\n",
       " 94,\n",
       " 94,\n",
       " 94,\n",
       " 95,\n",
       " 95,\n",
       " 95,\n",
       " 95,\n",
       " 95,\n",
       " 96,\n",
       " 96,\n",
       " 96,\n",
       " 96,\n",
       " 96,\n",
       " 96,\n",
       " 96,\n",
       " 96,\n",
       " 97,\n",
       " 97,\n",
       " 97,\n",
       " 97,\n",
       " 97,\n",
       " 97,\n",
       " 98,\n",
       " 98,\n",
       " 98,\n",
       " 98,\n",
       " 98,\n",
       " 98,\n",
       " 98,\n",
       " 99,\n",
       " 99,\n",
       " 99,\n",
       " 99,\n",
       " 99,\n",
       " 99,\n",
       " 100,\n",
       " 100,\n",
       " 100,\n",
       " 100,\n",
       " 100,\n",
       " 100,\n",
       " 100,\n",
       " 101,\n",
       " 101,\n",
       " 101,\n",
       " 101,\n",
       " 101,\n",
       " 102,\n",
       " 102,\n",
       " 102,\n",
       " 102,\n",
       " 102,\n",
       " 102,\n",
       " 102,\n",
       " 102,\n",
       " 102,\n",
       " 103,\n",
       " 103,\n",
       " 103,\n",
       " 103,\n",
       " 103,\n",
       " 103,\n",
       " 103,\n",
       " 103,\n",
       " 104,\n",
       " 104,\n",
       " 104,\n",
       " 104,\n",
       " 104,\n",
       " 104,\n",
       " 105,\n",
       " 105,\n",
       " 105,\n",
       " 105,\n",
       " 105,\n",
       " 105,\n",
       " 105,\n",
       " 106,\n",
       " 106,\n",
       " 106,\n",
       " 106,\n",
       " 106,\n",
       " 107,\n",
       " 107,\n",
       " 107,\n",
       " 107,\n",
       " 107,\n",
       " 107,\n",
       " 107,\n",
       " 107,\n",
       " 108,\n",
       " 108,\n",
       " 108,\n",
       " 108,\n",
       " 108,\n",
       " 108,\n",
       " 108,\n",
       " 108,\n",
       " 108,\n",
       " 109,\n",
       " 109,\n",
       " 109,\n",
       " 109,\n",
       " 109,\n",
       " 109,\n",
       " 109,\n",
       " 109,\n",
       " 110,\n",
       " 110,\n",
       " 110,\n",
       " 110,\n",
       " 110,\n",
       " 110,\n",
       " 110,\n",
       " 111,\n",
       " 111,\n",
       " 111,\n",
       " 111,\n",
       " 111,\n",
       " 111,\n",
       " 111,\n",
       " 111,\n",
       " 111,\n",
       " 112,\n",
       " 112,\n",
       " 112,\n",
       " 112,\n",
       " 112,\n",
       " 112,\n",
       " 113,\n",
       " 113,\n",
       " 113,\n",
       " 113,\n",
       " 113,\n",
       " 113,\n",
       " 113,\n",
       " 113,\n",
       " 114,\n",
       " 114,\n",
       " 114,\n",
       " 114,\n",
       " 114,\n",
       " 114,\n",
       " 114,\n",
       " 114,\n",
       " 114,\n",
       " 114,\n",
       " 115,\n",
       " 115,\n",
       " 116,\n",
       " 116,\n",
       " 116,\n",
       " 116,\n",
       " 116,\n",
       " 116,\n",
       " 116,\n",
       " 116,\n",
       " 116,\n",
       " 117,\n",
       " 117,\n",
       " 117,\n",
       " 117,\n",
       " 117,\n",
       " 118,\n",
       " 118,\n",
       " 118,\n",
       " 118,\n",
       " 118,\n",
       " 118,\n",
       " 119,\n",
       " 119,\n",
       " 119,\n",
       " 119,\n",
       " 119,\n",
       " 120,\n",
       " 120,\n",
       " 120,\n",
       " 120,\n",
       " 120,\n",
       " 120,\n",
       " 120,\n",
       " 121,\n",
       " 121,\n",
       " 121,\n",
       " 121,\n",
       " 122,\n",
       " 122,\n",
       " 122,\n",
       " 122,\n",
       " 122,\n",
       " 122,\n",
       " 123,\n",
       " 123,\n",
       " 123,\n",
       " 123,\n",
       " 123,\n",
       " 123,\n",
       " 123,\n",
       " 123,\n",
       " 124,\n",
       " 124,\n",
       " 124,\n",
       " 124,\n",
       " 125,\n",
       " 125,\n",
       " 125,\n",
       " 125,\n",
       " 126,\n",
       " 126,\n",
       " 126,\n",
       " 126,\n",
       " 126,\n",
       " 126,\n",
       " 126,\n",
       " 126,\n",
       " 127,\n",
       " 127]"
      ]
     },
     "execution_count": 34,
     "metadata": {},
     "output_type": "execute_result"
    }
   ],
   "source": [
    "true_para_idx"
   ]
  },
  {
   "cell_type": "code",
   "execution_count": 32,
   "id": "ef26975a",
   "metadata": {},
   "outputs": [],
   "source": [
    "best_para_cos_sim = np.max(cos_sim,axis=1)"
   ]
  },
  {
   "cell_type": "code",
   "execution_count": 33,
   "id": "19308536",
   "metadata": {},
   "outputs": [
    {
     "data": {
      "text/plain": [
       "array([0.41610977, 0.36560519, 0.51362324, 0.40554515, 0.19823942,\n",
       "       0.14202045, 0.18591284, 0.2615077 , 0.26229456, 0.3678208 ,\n",
       "       0.48982123, 0.41086587, 0.53255801, 0.61685095, 0.38767974,\n",
       "       0.34907354, 0.33290861, 0.4619204 , 0.24753279, 0.25658075,\n",
       "       0.35117266, 0.33709083, 0.37165002, 0.19549459, 0.23652574,\n",
       "       0.60504678, 0.47413893, 0.33557475, 0.46948594, 0.2823495 ,\n",
       "       0.05558193, 0.24016843, 0.15502893, 0.4919657 , 0.33928052,\n",
       "       0.28015694, 0.37325321, 0.35088203, 0.54552199, 0.45399542,\n",
       "       0.43482898, 0.22453612, 0.40626038, 0.28833183, 0.41323031,\n",
       "       0.20259604, 0.45191897, 0.37601485, 0.24282262, 0.34336933,\n",
       "       0.16991703, 0.15044767, 0.37331235, 0.43761093, 0.47565785,\n",
       "       0.29105052, 0.24685169, 0.1786868 , 0.20012424, 0.60650388,\n",
       "       0.30574278, 0.38732026, 0.40235987, 0.52786856, 0.44688609,\n",
       "       0.40390738, 0.48513792, 0.48828125, 0.26690699, 0.22193312,\n",
       "       0.36162982, 0.47033879, 0.27784372, 0.53581297, 0.42710344,\n",
       "       0.23032927, 0.28202719, 0.58435345, 0.54961101, 0.30672689,\n",
       "       0.3792024 , 0.        , 0.36924675, 0.39398657, 0.21344559,\n",
       "       0.24994227, 0.5060284 , 0.43638048, 0.35754616, 0.37810182,\n",
       "       0.20826194, 0.46430661, 0.36035361, 0.49234437, 0.35390183,\n",
       "       0.41254911, 0.34324728, 0.16762091, 0.30038144, 0.14449932,\n",
       "       0.40788143, 0.3800147 , 0.414215  , 0.34494382, 0.13318399,\n",
       "       0.28032758, 0.46810564, 0.42074414, 0.22282858, 0.32785009,\n",
       "       0.19473465, 0.19726701, 0.3534973 , 0.23582654, 0.34380309,\n",
       "       0.36979501, 0.342929  , 0.37454082, 0.43589118, 0.32748528,\n",
       "       0.65191263, 0.26722152, 0.23877506, 0.09313921, 0.31219084,\n",
       "       0.15479464, 0.41984282, 0.45102409, 0.10032614, 0.3327235 ,\n",
       "       0.07820496, 0.24934543, 0.24592638, 0.14803187, 0.30540447,\n",
       "       0.29466344, 0.17216543, 0.22508575, 0.56078431, 0.18036485,\n",
       "       0.11748139, 0.40018938, 0.45955256, 0.2120419 , 0.49068666,\n",
       "       0.43691153, 0.28661394, 0.25927929, 0.19108942, 0.48086157,\n",
       "       0.04851404, 0.32623929, 0.308291  , 0.30165545, 0.20667675,\n",
       "       0.27363922, 0.22407932, 0.44505442, 0.44625491, 0.47959939,\n",
       "       0.38775398, 0.22374052, 0.36408096, 0.21830775, 0.20196375,\n",
       "       0.16387967, 0.31285617, 0.34342655, 0.13529059, 0.12792606,\n",
       "       0.21911697, 0.20603244, 0.36750747, 0.13407159, 0.25450463,\n",
       "       0.19362288, 0.23418185, 0.18523427, 0.24763617, 0.42652254,\n",
       "       0.31268976, 0.29161146, 0.43843619, 0.21550742, 0.28281176,\n",
       "       0.38751104, 0.27829618, 0.23791202, 0.29335216, 0.25871959,\n",
       "       0.10285935, 0.1672613 , 0.24309242, 0.50185876, 0.49890173,\n",
       "       0.38708687, 0.31531863, 0.42335955, 0.28224592, 0.29672976,\n",
       "       0.59036124, 0.55327797, 0.44300591, 0.48085789, 0.2866002 ,\n",
       "       0.39032638, 0.39779164, 0.20208056, 0.13161111, 0.24649858,\n",
       "       0.30526941, 0.33017423, 0.40473208, 0.26114846, 0.39550943,\n",
       "       0.30527684, 0.13327598, 0.1528479 , 0.34192946, 0.54753958,\n",
       "       0.25134133, 0.26217807, 0.16797557, 0.12807103, 0.18298046,\n",
       "       0.22930079, 0.16532207, 0.30447257, 0.31958153, 0.18769757,\n",
       "       0.18144743, 0.22966937, 0.31528968, 0.22860358, 0.23514351,\n",
       "       0.04851404, 0.34091068, 0.27233079, 0.25267471, 0.38299306,\n",
       "       0.24328494, 0.23140478, 0.45269981, 0.07881634, 0.47139501,\n",
       "       0.45330734, 0.08162876, 0.25209233, 0.13324918, 0.17416664,\n",
       "       0.14773501, 0.2549004 , 0.46918545, 0.41290012, 0.54435591,\n",
       "       0.55248345, 0.52629262, 0.4408789 , 0.53542043, 0.54107408,\n",
       "       0.55248345, 0.41414659, 0.59799932, 0.60289966, 0.0802057 ,\n",
       "       0.59799932, 0.07537987, 0.07270939, 0.60881511, 0.58653074,\n",
       "       0.47613898, 0.48737308, 0.46975903, 0.5508993 , 0.48500362,\n",
       "       0.45430083, 0.43608894, 0.51125399, 0.59541467, 0.55625329,\n",
       "       0.47660485, 0.17287448, 0.1891733 , 0.57788329, 0.59560604,\n",
       "       0.46221569, 0.42505603, 0.56433481, 0.46872919, 0.34717021,\n",
       "       0.47314109, 0.07680567, 0.51850447, 0.67237268, 0.07680567,\n",
       "       0.07680567, 0.40743637, 0.41857815, 0.47424004, 0.40208538,\n",
       "       0.5274488 , 0.47469518, 0.41815575, 0.43632904, 0.08303038,\n",
       "       0.0692253 , 0.12064734, 0.39665787, 0.0692253 , 0.64861175,\n",
       "       0.46664983, 0.53991797, 0.57721286, 0.47496259, 0.51546167,\n",
       "       0.55444031, 0.58437098, 0.52512961, 0.49991586, 0.52821111,\n",
       "       0.543482  , 0.51478836, 0.50104711, 0.63697624, 0.61319462,\n",
       "       0.43562259, 0.54248974, 0.49992806, 0.40844656, 0.5298974 ,\n",
       "       0.19123986, 0.1166232 , 0.06127093, 0.38131807, 0.14659182,\n",
       "       0.46932619, 0.58663029, 0.        , 0.38697627, 0.46932619,\n",
       "       0.58182432, 0.        , 0.57430664, 0.05857762, 0.51115596,\n",
       "       0.49881798, 0.05857762, 0.49881798, 0.5594305 , 0.54331394,\n",
       "       0.51084332, 0.49410227, 0.52006176, 0.4962981 , 0.52705126,\n",
       "       0.5359556 , 0.06295851, 0.47463074, 0.47147852, 0.45027151,\n",
       "       0.5734483 , 0.06295851, 0.26539891, 0.15117282, 0.27668669,\n",
       "       0.52143959, 0.27518763, 0.15117282, 0.2632438 , 0.50588116,\n",
       "       0.43178883, 0.51223064, 0.3390817 , 0.39402133, 0.50988395,\n",
       "       0.51223064, 0.77431247, 0.53572035, 0.66752582, 0.6526502 ,\n",
       "       0.45986699, 0.48180781, 0.59002418, 0.554426  , 0.50636014,\n",
       "       0.49398632, 0.46751351, 0.44662045, 0.58046214, 0.22416193,\n",
       "       0.22683365, 0.21002615, 0.64067116, 0.60647947, 0.22482184,\n",
       "       0.20536338, 0.71646158, 0.44968713, 0.63317292, 0.12727595,\n",
       "       0.62706834, 0.42620896, 0.66301789, 0.13444611, 0.55002762,\n",
       "       0.32345209, 0.17286801, 0.27861083, 0.18030033, 0.33613079,\n",
       "       0.17286801, 0.24215845, 0.18030033, 0.56696003, 0.45668843,\n",
       "       0.49113945, 0.4126581 , 0.45668843, 0.4915448 , 0.41736671,\n",
       "       0.13980432, 0.49017193, 0.14729532, 0.51364817, 0.47934723,\n",
       "       0.46884736, 0.10506552, 0.51364817, 0.45603001, 0.12339692,\n",
       "       0.32092561, 0.34320459, 0.12339692, 0.32092561, 0.33318579,\n",
       "       0.46600663, 0.43386386, 0.21108236, 0.4342119 , 0.4359147 ,\n",
       "       0.40909319, 0.20871132, 0.41237013, 0.71723278, 0.74971729,\n",
       "       0.6930592 , 0.69610681, 0.56108387, 0.71723278, 0.74971729,\n",
       "       0.65289146, 0.6704308 , 0.24778775, 0.73370385, 0.12212876,\n",
       "       0.76190145, 0.80676046, 0.53212339, 0.60375017, 0.52623416,\n",
       "       0.77597878, 0.60054003, 0.57845218, 0.4991549 , 0.64807544,\n",
       "       0.4825364 , 0.20206592, 0.61387254, 0.13655131, 0.17631047,\n",
       "       0.13465652, 0.20122926, 0.13465652, 0.20122926, 0.74031797,\n",
       "       0.57631642, 0.5337692 , 0.62023486, 0.56483844, 0.54866168,\n",
       "       0.54630228, 0.51159689, 0.53687833, 0.51395037, 0.54630228,\n",
       "       0.53687833, 0.46601148, 0.70947234, 0.41894922, 0.316341  ,\n",
       "       0.04235393, 0.43453609, 0.39681831, 0.47354739, 0.4278568 ,\n",
       "       0.39681831, 0.52912669, 0.06256819, 0.2257995 , 0.63651737,\n",
       "       0.06256819, 0.25099127, 0.27052983, 0.58532377, 0.37182547,\n",
       "       0.45494336, 0.53172461, 0.43536699, 0.50393059, 0.6576934 ,\n",
       "       0.51287849, 0.50823231, 0.13259095, 0.46892294, 0.18677312,\n",
       "       0.48928671, 0.5362643 , 0.50688869, 0.48499405, 0.5362643 ,\n",
       "       0.50688869, 0.64843785, 0.48679714])"
      ]
     },
     "execution_count": 33,
     "metadata": {},
     "output_type": "execute_result"
    }
   ],
   "source": [
    "best_para_cos_sim"
   ]
  },
  {
   "cell_type": "code",
   "execution_count": null,
   "id": "7fa41e4b",
   "metadata": {},
   "outputs": [],
   "source": []
  }
 ],
 "metadata": {
  "kernelspec": {
   "display_name": "Python 3 (ipykernel)",
   "language": "python",
   "name": "python3"
  },
  "language_info": {
   "codemirror_mode": {
    "name": "ipython",
    "version": 3
   },
   "file_extension": ".py",
   "mimetype": "text/x-python",
   "name": "python",
   "nbconvert_exporter": "python",
   "pygments_lexer": "ipython3",
   "version": "3.8.10"
  }
 },
 "nbformat": 4,
 "nbformat_minor": 5
}
